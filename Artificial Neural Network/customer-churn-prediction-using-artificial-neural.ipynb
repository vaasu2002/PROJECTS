{
 "cells": [
  {
   "cell_type": "code",
   "execution_count": 1,
   "id": "72093ede",
   "metadata": {
    "_cell_guid": "b1076dfc-b9ad-4769-8c92-a6c4dae69d19",
    "_uuid": "8f2839f25d086af736a60e9eeb907d3b93b6e0e5",
    "execution": {
     "iopub.execute_input": "2022-01-30T08:16:31.102232Z",
     "iopub.status.busy": "2022-01-30T08:16:31.100963Z",
     "iopub.status.idle": "2022-01-30T08:16:31.120876Z",
     "shell.execute_reply": "2022-01-30T08:16:31.120175Z",
     "shell.execute_reply.started": "2022-01-30T08:14:13.278108Z"
    },
    "papermill": {
     "duration": 0.060868,
     "end_time": "2022-01-30T08:16:31.121050",
     "exception": false,
     "start_time": "2022-01-30T08:16:31.060182",
     "status": "completed"
    },
    "tags": []
   },
   "outputs": [
    {
     "name": "stdout",
     "output_type": "stream",
     "text": [
      "/kaggle/input/telco-customer-churn/WA_Fn-UseC_-Telco-Customer-Churn.csv\n"
     ]
    }
   ],
   "source": [
    "import pandas as pd\n",
    "from matplotlib import pyplot as plt\n",
    "import numpy as np\n",
    "import warnings\n",
    "warnings.filterwarnings(\"ignore\")\n",
    "import os\n",
    "for dirname, _, filenames in os.walk('/kaggle/input'):\n",
    "    for filename in filenames:\n",
    "        print(os.path.join(dirname, filename))"
   ]
  },
  {
   "cell_type": "code",
   "execution_count": 2,
   "id": "135cebe8",
   "metadata": {
    "execution": {
     "iopub.execute_input": "2022-01-30T08:16:31.193517Z",
     "iopub.status.busy": "2022-01-30T08:16:31.192835Z",
     "iopub.status.idle": "2022-01-30T08:16:31.288967Z",
     "shell.execute_reply": "2022-01-30T08:16:31.288424Z",
     "shell.execute_reply.started": "2022-01-30T08:14:13.299018Z"
    },
    "papermill": {
     "duration": 0.132581,
     "end_time": "2022-01-30T08:16:31.289099",
     "exception": false,
     "start_time": "2022-01-30T08:16:31.156518",
     "status": "completed"
    },
    "tags": []
   },
   "outputs": [
    {
     "data": {
      "text/html": [
       "<div>\n",
       "<style scoped>\n",
       "    .dataframe tbody tr th:only-of-type {\n",
       "        vertical-align: middle;\n",
       "    }\n",
       "\n",
       "    .dataframe tbody tr th {\n",
       "        vertical-align: top;\n",
       "    }\n",
       "\n",
       "    .dataframe thead th {\n",
       "        text-align: right;\n",
       "    }\n",
       "</style>\n",
       "<table border=\"1\" class=\"dataframe\">\n",
       "  <thead>\n",
       "    <tr style=\"text-align: right;\">\n",
       "      <th></th>\n",
       "      <th>customerID</th>\n",
       "      <th>gender</th>\n",
       "      <th>SeniorCitizen</th>\n",
       "      <th>Partner</th>\n",
       "      <th>Dependents</th>\n",
       "      <th>tenure</th>\n",
       "      <th>PhoneService</th>\n",
       "      <th>MultipleLines</th>\n",
       "      <th>InternetService</th>\n",
       "      <th>OnlineSecurity</th>\n",
       "      <th>...</th>\n",
       "      <th>DeviceProtection</th>\n",
       "      <th>TechSupport</th>\n",
       "      <th>StreamingTV</th>\n",
       "      <th>StreamingMovies</th>\n",
       "      <th>Contract</th>\n",
       "      <th>PaperlessBilling</th>\n",
       "      <th>PaymentMethod</th>\n",
       "      <th>MonthlyCharges</th>\n",
       "      <th>TotalCharges</th>\n",
       "      <th>Churn</th>\n",
       "    </tr>\n",
       "  </thead>\n",
       "  <tbody>\n",
       "    <tr>\n",
       "      <th>0</th>\n",
       "      <td>7590-VHVEG</td>\n",
       "      <td>Female</td>\n",
       "      <td>0</td>\n",
       "      <td>Yes</td>\n",
       "      <td>No</td>\n",
       "      <td>1</td>\n",
       "      <td>No</td>\n",
       "      <td>No phone service</td>\n",
       "      <td>DSL</td>\n",
       "      <td>No</td>\n",
       "      <td>...</td>\n",
       "      <td>No</td>\n",
       "      <td>No</td>\n",
       "      <td>No</td>\n",
       "      <td>No</td>\n",
       "      <td>Month-to-month</td>\n",
       "      <td>Yes</td>\n",
       "      <td>Electronic check</td>\n",
       "      <td>29.85</td>\n",
       "      <td>29.85</td>\n",
       "      <td>No</td>\n",
       "    </tr>\n",
       "    <tr>\n",
       "      <th>1</th>\n",
       "      <td>5575-GNVDE</td>\n",
       "      <td>Male</td>\n",
       "      <td>0</td>\n",
       "      <td>No</td>\n",
       "      <td>No</td>\n",
       "      <td>34</td>\n",
       "      <td>Yes</td>\n",
       "      <td>No</td>\n",
       "      <td>DSL</td>\n",
       "      <td>Yes</td>\n",
       "      <td>...</td>\n",
       "      <td>Yes</td>\n",
       "      <td>No</td>\n",
       "      <td>No</td>\n",
       "      <td>No</td>\n",
       "      <td>One year</td>\n",
       "      <td>No</td>\n",
       "      <td>Mailed check</td>\n",
       "      <td>56.95</td>\n",
       "      <td>1889.5</td>\n",
       "      <td>No</td>\n",
       "    </tr>\n",
       "    <tr>\n",
       "      <th>2</th>\n",
       "      <td>3668-QPYBK</td>\n",
       "      <td>Male</td>\n",
       "      <td>0</td>\n",
       "      <td>No</td>\n",
       "      <td>No</td>\n",
       "      <td>2</td>\n",
       "      <td>Yes</td>\n",
       "      <td>No</td>\n",
       "      <td>DSL</td>\n",
       "      <td>Yes</td>\n",
       "      <td>...</td>\n",
       "      <td>No</td>\n",
       "      <td>No</td>\n",
       "      <td>No</td>\n",
       "      <td>No</td>\n",
       "      <td>Month-to-month</td>\n",
       "      <td>Yes</td>\n",
       "      <td>Mailed check</td>\n",
       "      <td>53.85</td>\n",
       "      <td>108.15</td>\n",
       "      <td>Yes</td>\n",
       "    </tr>\n",
       "    <tr>\n",
       "      <th>3</th>\n",
       "      <td>7795-CFOCW</td>\n",
       "      <td>Male</td>\n",
       "      <td>0</td>\n",
       "      <td>No</td>\n",
       "      <td>No</td>\n",
       "      <td>45</td>\n",
       "      <td>No</td>\n",
       "      <td>No phone service</td>\n",
       "      <td>DSL</td>\n",
       "      <td>Yes</td>\n",
       "      <td>...</td>\n",
       "      <td>Yes</td>\n",
       "      <td>Yes</td>\n",
       "      <td>No</td>\n",
       "      <td>No</td>\n",
       "      <td>One year</td>\n",
       "      <td>No</td>\n",
       "      <td>Bank transfer (automatic)</td>\n",
       "      <td>42.30</td>\n",
       "      <td>1840.75</td>\n",
       "      <td>No</td>\n",
       "    </tr>\n",
       "    <tr>\n",
       "      <th>4</th>\n",
       "      <td>9237-HQITU</td>\n",
       "      <td>Female</td>\n",
       "      <td>0</td>\n",
       "      <td>No</td>\n",
       "      <td>No</td>\n",
       "      <td>2</td>\n",
       "      <td>Yes</td>\n",
       "      <td>No</td>\n",
       "      <td>Fiber optic</td>\n",
       "      <td>No</td>\n",
       "      <td>...</td>\n",
       "      <td>No</td>\n",
       "      <td>No</td>\n",
       "      <td>No</td>\n",
       "      <td>No</td>\n",
       "      <td>Month-to-month</td>\n",
       "      <td>Yes</td>\n",
       "      <td>Electronic check</td>\n",
       "      <td>70.70</td>\n",
       "      <td>151.65</td>\n",
       "      <td>Yes</td>\n",
       "    </tr>\n",
       "  </tbody>\n",
       "</table>\n",
       "<p>5 rows × 21 columns</p>\n",
       "</div>"
      ],
      "text/plain": [
       "   customerID  gender  SeniorCitizen Partner Dependents  tenure PhoneService  \\\n",
       "0  7590-VHVEG  Female              0     Yes         No       1           No   \n",
       "1  5575-GNVDE    Male              0      No         No      34          Yes   \n",
       "2  3668-QPYBK    Male              0      No         No       2          Yes   \n",
       "3  7795-CFOCW    Male              0      No         No      45           No   \n",
       "4  9237-HQITU  Female              0      No         No       2          Yes   \n",
       "\n",
       "      MultipleLines InternetService OnlineSecurity  ... DeviceProtection  \\\n",
       "0  No phone service             DSL             No  ...               No   \n",
       "1                No             DSL            Yes  ...              Yes   \n",
       "2                No             DSL            Yes  ...               No   \n",
       "3  No phone service             DSL            Yes  ...              Yes   \n",
       "4                No     Fiber optic             No  ...               No   \n",
       "\n",
       "  TechSupport StreamingTV StreamingMovies        Contract PaperlessBilling  \\\n",
       "0          No          No              No  Month-to-month              Yes   \n",
       "1          No          No              No        One year               No   \n",
       "2          No          No              No  Month-to-month              Yes   \n",
       "3         Yes          No              No        One year               No   \n",
       "4          No          No              No  Month-to-month              Yes   \n",
       "\n",
       "               PaymentMethod MonthlyCharges  TotalCharges Churn  \n",
       "0           Electronic check          29.85         29.85    No  \n",
       "1               Mailed check          56.95        1889.5    No  \n",
       "2               Mailed check          53.85        108.15   Yes  \n",
       "3  Bank transfer (automatic)          42.30       1840.75    No  \n",
       "4           Electronic check          70.70        151.65   Yes  \n",
       "\n",
       "[5 rows x 21 columns]"
      ]
     },
     "execution_count": 2,
     "metadata": {},
     "output_type": "execute_result"
    }
   ],
   "source": [
    "df = pd.read_csv(\"/kaggle/input/telco-customer-churn/WA_Fn-UseC_-Telco-Customer-Churn.csv\")\n",
    "df.head(5)"
   ]
  },
  {
   "cell_type": "markdown",
   "id": "5dff072d",
   "metadata": {
    "papermill": {
     "duration": 0.034461,
     "end_time": "2022-01-30T08:16:31.358232",
     "exception": false,
     "start_time": "2022-01-30T08:16:31.323771",
     "status": "completed"
    },
    "tags": []
   },
   "source": [
    "**First of all, drop customerID column as it is of no use**"
   ]
  },
  {
   "cell_type": "code",
   "execution_count": 3,
   "id": "94854074",
   "metadata": {
    "execution": {
     "iopub.execute_input": "2022-01-30T08:16:31.438961Z",
     "iopub.status.busy": "2022-01-30T08:16:31.438228Z",
     "iopub.status.idle": "2022-01-30T08:16:31.440217Z",
     "shell.execute_reply": "2022-01-30T08:16:31.440821Z",
     "shell.execute_reply.started": "2022-01-30T08:14:13.377832Z"
    },
    "papermill": {
     "duration": 0.048698,
     "end_time": "2022-01-30T08:16:31.441007",
     "exception": false,
     "start_time": "2022-01-30T08:16:31.392309",
     "status": "completed"
    },
    "tags": []
   },
   "outputs": [],
   "source": [
    "df.drop('customerID',axis='columns',inplace=True)"
   ]
  },
  {
   "cell_type": "code",
   "execution_count": 4,
   "id": "f0483584",
   "metadata": {
    "execution": {
     "iopub.execute_input": "2022-01-30T08:16:31.518191Z",
     "iopub.status.busy": "2022-01-30T08:16:31.517160Z",
     "iopub.status.idle": "2022-01-30T08:16:31.524251Z",
     "shell.execute_reply": "2022-01-30T08:16:31.524911Z",
     "shell.execute_reply.started": "2022-01-30T08:14:13.387572Z"
    },
    "papermill": {
     "duration": 0.048074,
     "end_time": "2022-01-30T08:16:31.525086",
     "exception": false,
     "start_time": "2022-01-30T08:16:31.477012",
     "status": "completed"
    },
    "tags": []
   },
   "outputs": [
    {
     "data": {
      "text/plain": [
       "gender               object\n",
       "SeniorCitizen         int64\n",
       "Partner              object\n",
       "Dependents           object\n",
       "tenure                int64\n",
       "PhoneService         object\n",
       "MultipleLines        object\n",
       "InternetService      object\n",
       "OnlineSecurity       object\n",
       "OnlineBackup         object\n",
       "DeviceProtection     object\n",
       "TechSupport          object\n",
       "StreamingTV          object\n",
       "StreamingMovies      object\n",
       "Contract             object\n",
       "PaperlessBilling     object\n",
       "PaymentMethod        object\n",
       "MonthlyCharges      float64\n",
       "TotalCharges         object\n",
       "Churn                object\n",
       "dtype: object"
      ]
     },
     "execution_count": 4,
     "metadata": {},
     "output_type": "execute_result"
    }
   ],
   "source": [
    "df.dtypes"
   ]
  },
  {
   "cell_type": "markdown",
   "id": "83db9d6c",
   "metadata": {
    "papermill": {
     "duration": 0.041438,
     "end_time": "2022-01-30T08:16:31.610934",
     "exception": false,
     "start_time": "2022-01-30T08:16:31.569496",
     "status": "completed"
    },
    "tags": []
   },
   "source": [
    "**OBSERVATION** - Quick glance at above makes me realize that TotalCharges should be float but it is an object. Let's check what's going on with this column\n",
    "\n"
   ]
  },
  {
   "cell_type": "markdown",
   "id": "4716158e",
   "metadata": {
    "papermill": {
     "duration": 0.034686,
     "end_time": "2022-01-30T08:16:31.681244",
     "exception": false,
     "start_time": "2022-01-30T08:16:31.646558",
     "status": "completed"
    },
    "tags": []
   },
   "source": [
    "Now using `to_numeric` method I will change the object into numerical data"
   ]
  },
  {
   "cell_type": "code",
   "execution_count": 5,
   "id": "5747be89",
   "metadata": {
    "execution": {
     "iopub.execute_input": "2022-01-30T08:16:31.753905Z",
     "iopub.status.busy": "2022-01-30T08:16:31.753267Z",
     "iopub.status.idle": "2022-01-30T08:16:31.848098Z",
     "shell.execute_reply": "2022-01-30T08:16:31.847438Z",
     "shell.execute_reply.started": "2022-01-30T08:14:13.407857Z"
    },
    "papermill": {
     "duration": 0.132254,
     "end_time": "2022-01-30T08:16:31.848422",
     "exception": true,
     "start_time": "2022-01-30T08:16:31.716168",
     "status": "failed"
    },
    "tags": []
   },
   "outputs": [
    {
     "ename": "ValueError",
     "evalue": "Unable to parse string \" \" at position 488",
     "output_type": "error",
     "traceback": [
      "\u001b[0;31m---------------------------------------------------------------------------\u001b[0m",
      "\u001b[0;31mValueError\u001b[0m                                Traceback (most recent call last)",
      "\u001b[0;32m/opt/conda/lib/python3.7/site-packages/pandas/_libs/lib.pyx\u001b[0m in \u001b[0;36mpandas._libs.lib.maybe_convert_numeric\u001b[0;34m()\u001b[0m\n",
      "\u001b[0;31mValueError\u001b[0m: Unable to parse string \" \"",
      "\nDuring handling of the above exception, another exception occurred:\n",
      "\u001b[0;31mValueError\u001b[0m                                Traceback (most recent call last)",
      "\u001b[0;32m/tmp/ipykernel_19/2112264836.py\u001b[0m in \u001b[0;36m<module>\u001b[0;34m\u001b[0m\n\u001b[0;32m----> 1\u001b[0;31m \u001b[0mpd\u001b[0m\u001b[0;34m.\u001b[0m\u001b[0mto_numeric\u001b[0m\u001b[0;34m(\u001b[0m\u001b[0mdf\u001b[0m\u001b[0;34m.\u001b[0m\u001b[0mTotalCharges\u001b[0m\u001b[0;34m)\u001b[0m\u001b[0;34m\u001b[0m\u001b[0;34m\u001b[0m\u001b[0m\n\u001b[0m",
      "\u001b[0;32m/opt/conda/lib/python3.7/site-packages/pandas/core/tools/numeric.py\u001b[0m in \u001b[0;36mto_numeric\u001b[0;34m(arg, errors, downcast)\u001b[0m\n\u001b[1;32m    182\u001b[0m         \u001b[0;32mtry\u001b[0m\u001b[0;34m:\u001b[0m\u001b[0;34m\u001b[0m\u001b[0;34m\u001b[0m\u001b[0m\n\u001b[1;32m    183\u001b[0m             values, _ = lib.maybe_convert_numeric(\n\u001b[0;32m--> 184\u001b[0;31m                 \u001b[0mvalues\u001b[0m\u001b[0;34m,\u001b[0m \u001b[0mset\u001b[0m\u001b[0;34m(\u001b[0m\u001b[0;34m)\u001b[0m\u001b[0;34m,\u001b[0m \u001b[0mcoerce_numeric\u001b[0m\u001b[0;34m=\u001b[0m\u001b[0mcoerce_numeric\u001b[0m\u001b[0;34m\u001b[0m\u001b[0;34m\u001b[0m\u001b[0m\n\u001b[0m\u001b[1;32m    185\u001b[0m             )\n\u001b[1;32m    186\u001b[0m         \u001b[0;32mexcept\u001b[0m \u001b[0;34m(\u001b[0m\u001b[0mValueError\u001b[0m\u001b[0;34m,\u001b[0m \u001b[0mTypeError\u001b[0m\u001b[0;34m)\u001b[0m\u001b[0;34m:\u001b[0m\u001b[0;34m\u001b[0m\u001b[0;34m\u001b[0m\u001b[0m\n",
      "\u001b[0;32m/opt/conda/lib/python3.7/site-packages/pandas/_libs/lib.pyx\u001b[0m in \u001b[0;36mpandas._libs.lib.maybe_convert_numeric\u001b[0;34m()\u001b[0m\n",
      "\u001b[0;31mValueError\u001b[0m: Unable to parse string \" \" at position 488"
     ]
    }
   ],
   "source": [
    "pd.to_numeric(df.TotalCharges)"
   ]
  },
  {
   "cell_type": "markdown",
   "id": "912d61ae",
   "metadata": {
    "papermill": {
     "duration": null,
     "end_time": null,
     "exception": null,
     "start_time": null,
     "status": "pending"
    },
    "tags": []
   },
   "source": [
    "**OBSERVATION** - Error is shown because some values seems to be not numbers but blank string in the **TotalCharge** column which `pandas` is not able to convert to numerical values. "
   ]
  },
  {
   "cell_type": "code",
   "execution_count": null,
   "id": "0bf044e2",
   "metadata": {
    "execution": {
     "iopub.execute_input": "2022-01-30T08:14:18.458364Z",
     "iopub.status.busy": "2022-01-30T08:14:18.458092Z",
     "iopub.status.idle": "2022-01-30T08:14:18.471236Z",
     "shell.execute_reply": "2022-01-30T08:14:18.470595Z",
     "shell.execute_reply.started": "2022-01-30T08:14:18.458335Z"
    },
    "papermill": {
     "duration": null,
     "end_time": null,
     "exception": null,
     "start_time": null,
     "status": "pending"
    },
    "tags": []
   },
   "outputs": [],
   "source": [
    "# THIS WILL CONVERT OBJECT WITHOUT BLANK STRING TO FLOAT WHILE BLANK STRING WILL BE CONVERTED INTO NaN\n",
    "pd.to_numeric(df.TotalCharges,errors='coerce')"
   ]
  },
  {
   "cell_type": "markdown",
   "id": "a5ed385c",
   "metadata": {
    "papermill": {
     "duration": null,
     "end_time": null,
     "exception": null,
     "start_time": null,
     "status": "pending"
    },
    "tags": []
   },
   "source": [
    "#### LET'S SAY THE I WANT TO SEE THE INDEXES OF ROWS WITH NULL VALUES"
   ]
  },
  {
   "cell_type": "code",
   "execution_count": null,
   "id": "4144cc1e",
   "metadata": {
    "execution": {
     "iopub.execute_input": "2022-01-30T08:14:19.657510Z",
     "iopub.status.busy": "2022-01-30T08:14:19.657249Z",
     "iopub.status.idle": "2022-01-30T08:14:19.671173Z",
     "shell.execute_reply": "2022-01-30T08:14:19.670394Z",
     "shell.execute_reply.started": "2022-01-30T08:14:19.657481Z"
    },
    "papermill": {
     "duration": null,
     "end_time": null,
     "exception": null,
     "start_time": null,
     "status": "pending"
    },
    "tags": []
   },
   "outputs": [],
   "source": [
    "pd.to_numeric(df.TotalCharges,errors='coerce').isnull()"
   ]
  },
  {
   "cell_type": "code",
   "execution_count": null,
   "id": "ce20bff0",
   "metadata": {
    "execution": {
     "iopub.execute_input": "2022-01-30T08:14:20.405299Z",
     "iopub.status.busy": "2022-01-30T08:14:20.405025Z",
     "iopub.status.idle": "2022-01-30T08:14:20.436529Z",
     "shell.execute_reply": "2022-01-30T08:14:20.435725Z",
     "shell.execute_reply.started": "2022-01-30T08:14:20.405271Z"
    },
    "papermill": {
     "duration": null,
     "end_time": null,
     "exception": null,
     "start_time": null,
     "status": "pending"
    },
    "tags": []
   },
   "outputs": [],
   "source": [
    "df[pd.to_numeric(df.TotalCharges,errors='coerce').isnull()]"
   ]
  },
  {
   "cell_type": "code",
   "execution_count": null,
   "id": "dd09999b",
   "metadata": {
    "execution": {
     "iopub.execute_input": "2022-01-30T08:14:20.889338Z",
     "iopub.status.busy": "2022-01-30T08:14:20.889056Z",
     "iopub.status.idle": "2022-01-30T08:14:20.896398Z",
     "shell.execute_reply": "2022-01-30T08:14:20.895775Z",
     "shell.execute_reply.started": "2022-01-30T08:14:20.889310Z"
    },
    "papermill": {
     "duration": null,
     "end_time": null,
     "exception": null,
     "start_time": null,
     "status": "pending"
    },
    "tags": []
   },
   "outputs": [],
   "source": [
    "# iloc - integer location\n",
    "df.iloc[488]"
   ]
  },
  {
   "cell_type": "code",
   "execution_count": null,
   "id": "6c4e600a",
   "metadata": {
    "execution": {
     "iopub.execute_input": "2022-01-30T08:14:21.334154Z",
     "iopub.status.busy": "2022-01-30T08:14:21.333646Z",
     "iopub.status.idle": "2022-01-30T08:14:21.340145Z",
     "shell.execute_reply": "2022-01-30T08:14:21.339273Z",
     "shell.execute_reply.started": "2022-01-30T08:14:21.334122Z"
    },
    "papermill": {
     "duration": null,
     "end_time": null,
     "exception": null,
     "start_time": null,
     "status": "pending"
    },
    "tags": []
   },
   "outputs": [],
   "source": [
    "df.iloc[488].TotalCharges"
   ]
  },
  {
   "cell_type": "code",
   "execution_count": null,
   "id": "a2594f50",
   "metadata": {
    "execution": {
     "iopub.execute_input": "2022-01-30T08:14:21.809159Z",
     "iopub.status.busy": "2022-01-30T08:14:21.808841Z",
     "iopub.status.idle": "2022-01-30T08:14:21.817036Z",
     "shell.execute_reply": "2022-01-30T08:14:21.816123Z",
     "shell.execute_reply.started": "2022-01-30T08:14:21.809123Z"
    },
    "papermill": {
     "duration": null,
     "end_time": null,
     "exception": null,
     "start_time": null,
     "status": "pending"
    },
    "tags": []
   },
   "outputs": [],
   "source": [
    "print(f\"Total rows: {df.shape[0]}\")\n",
    "print(f\"Rows with null values: {df[df.TotalCharges==' '].shape[0]}\")"
   ]
  },
  {
   "cell_type": "code",
   "execution_count": null,
   "id": "b8b57067",
   "metadata": {
    "execution": {
     "iopub.execute_input": "2022-01-30T08:14:22.455344Z",
     "iopub.status.busy": "2022-01-30T08:14:22.455070Z",
     "iopub.status.idle": "2022-01-30T08:14:22.482843Z",
     "shell.execute_reply": "2022-01-30T08:14:22.482234Z",
     "shell.execute_reply.started": "2022-01-30T08:14:22.455317Z"
    },
    "papermill": {
     "duration": null,
     "end_time": null,
     "exception": null,
     "start_time": null,
     "status": "pending"
    },
    "tags": []
   },
   "outputs": [],
   "source": [
    "# NOW LETS DROP BLANK SPACES AS ONLY 11 ROWS HAVE NULL VALUES\n",
    "df1 = df[df.TotalCharges!=' ']\n",
    "print(df1.shape)\n",
    "df1.head()"
   ]
  },
  {
   "cell_type": "code",
   "execution_count": null,
   "id": "28d2df66",
   "metadata": {
    "execution": {
     "iopub.execute_input": "2022-01-30T08:14:23.021277Z",
     "iopub.status.busy": "2022-01-30T08:14:23.020931Z",
     "iopub.status.idle": "2022-01-30T08:14:23.031694Z",
     "shell.execute_reply": "2022-01-30T08:14:23.030962Z",
     "shell.execute_reply.started": "2022-01-30T08:14:23.021247Z"
    },
    "papermill": {
     "duration": null,
     "end_time": null,
     "exception": null,
     "start_time": null,
     "status": "pending"
    },
    "tags": []
   },
   "outputs": [],
   "source": [
    "# OBJECT -> NUMERIC\n",
    "df1.TotalCharges = pd.to_numeric(df1.TotalCharges)"
   ]
  },
  {
   "cell_type": "code",
   "execution_count": null,
   "id": "e2906515",
   "metadata": {
    "execution": {
     "iopub.execute_input": "2022-01-30T08:14:23.560360Z",
     "iopub.status.busy": "2022-01-30T08:14:23.560049Z",
     "iopub.status.idle": "2022-01-30T08:14:23.567727Z",
     "shell.execute_reply": "2022-01-30T08:14:23.567036Z",
     "shell.execute_reply.started": "2022-01-30T08:14:23.560326Z"
    },
    "papermill": {
     "duration": null,
     "end_time": null,
     "exception": null,
     "start_time": null,
     "status": "pending"
    },
    "tags": []
   },
   "outputs": [],
   "source": [
    "df1.dtypes"
   ]
  },
  {
   "cell_type": "code",
   "execution_count": null,
   "id": "630b41f6",
   "metadata": {
    "execution": {
     "iopub.execute_input": "2022-01-30T08:14:24.156822Z",
     "iopub.status.busy": "2022-01-30T08:14:24.156433Z",
     "iopub.status.idle": "2022-01-30T08:14:24.178750Z",
     "shell.execute_reply": "2022-01-30T08:14:24.178029Z",
     "shell.execute_reply.started": "2022-01-30T08:14:24.156785Z"
    },
    "papermill": {
     "duration": null,
     "end_time": null,
     "exception": null,
     "start_time": null,
     "status": "pending"
    },
    "tags": []
   },
   "outputs": [],
   "source": [
    "def print_unique_col_values(df):\n",
    "       for column in df:\n",
    "            if df[column].dtypes=='object':\n",
    "                print(f'{column}: {df[column].unique()}') \n",
    "print_unique_col_values(df1)"
   ]
  },
  {
   "cell_type": "markdown",
   "id": "4ac52b8f",
   "metadata": {
    "papermill": {
     "duration": null,
     "end_time": null,
     "exception": null,
     "start_time": null,
     "status": "pending"
    },
    "tags": []
   },
   "source": [
    "**Some of the columns have no internet service or no phone service, that can be replaced with a simple No**"
   ]
  },
  {
   "cell_type": "code",
   "execution_count": null,
   "id": "dbbf4cf0",
   "metadata": {
    "execution": {
     "iopub.execute_input": "2022-01-30T08:14:25.086553Z",
     "iopub.status.busy": "2022-01-30T08:14:25.086287Z",
     "iopub.status.idle": "2022-01-30T08:14:25.108287Z",
     "shell.execute_reply": "2022-01-30T08:14:25.107477Z",
     "shell.execute_reply.started": "2022-01-30T08:14:25.086525Z"
    },
    "papermill": {
     "duration": null,
     "end_time": null,
     "exception": null,
     "start_time": null,
     "status": "pending"
    },
    "tags": []
   },
   "outputs": [],
   "source": [
    "df1.replace('No internet service','No',inplace=True)\n",
    "df1.replace('No phone service','No',inplace=True)"
   ]
  },
  {
   "cell_type": "code",
   "execution_count": null,
   "id": "24dde178",
   "metadata": {
    "execution": {
     "iopub.execute_input": "2022-01-30T08:14:25.505328Z",
     "iopub.status.busy": "2022-01-30T08:14:25.504855Z",
     "iopub.status.idle": "2022-01-30T08:14:25.532094Z",
     "shell.execute_reply": "2022-01-30T08:14:25.531173Z",
     "shell.execute_reply.started": "2022-01-30T08:14:25.505293Z"
    },
    "papermill": {
     "duration": null,
     "end_time": null,
     "exception": null,
     "start_time": null,
     "status": "pending"
    },
    "tags": []
   },
   "outputs": [],
   "source": [
    "print_unique_col_values(df1)"
   ]
  },
  {
   "cell_type": "markdown",
   "id": "55cdbbae",
   "metadata": {
    "papermill": {
     "duration": null,
     "end_time": null,
     "exception": null,
     "start_time": null,
     "status": "pending"
    },
    "tags": []
   },
   "source": [
    "#### ORDINAL ENCODING"
   ]
  },
  {
   "cell_type": "code",
   "execution_count": null,
   "id": "0c3a5a97",
   "metadata": {
    "execution": {
     "iopub.execute_input": "2022-01-30T08:14:26.374788Z",
     "iopub.status.busy": "2022-01-30T08:14:26.372938Z",
     "iopub.status.idle": "2022-01-30T08:14:26.441563Z",
     "shell.execute_reply": "2022-01-30T08:14:26.440444Z",
     "shell.execute_reply.started": "2022-01-30T08:14:26.374739Z"
    },
    "papermill": {
     "duration": null,
     "end_time": null,
     "exception": null,
     "start_time": null,
     "status": "pending"
    },
    "tags": []
   },
   "outputs": [],
   "source": [
    "yes_no_columns = ['Partner','Dependents','PhoneService','MultipleLines','OnlineSecurity','OnlineBackup',\n",
    "                  'DeviceProtection','TechSupport','StreamingTV','StreamingMovies','PaperlessBilling','Churn']\n",
    "for col in yes_no_columns:\n",
    "    df1[col].replace({'Yes': 1,'No': 0},inplace=True)"
   ]
  },
  {
   "cell_type": "code",
   "execution_count": null,
   "id": "d7addc11",
   "metadata": {
    "execution": {
     "iopub.execute_input": "2022-01-30T08:14:26.758593Z",
     "iopub.status.busy": "2022-01-30T08:14:26.758309Z",
     "iopub.status.idle": "2022-01-30T08:14:26.775902Z",
     "shell.execute_reply": "2022-01-30T08:14:26.775256Z",
     "shell.execute_reply.started": "2022-01-30T08:14:26.758564Z"
    },
    "papermill": {
     "duration": null,
     "end_time": null,
     "exception": null,
     "start_time": null,
     "status": "pending"
    },
    "tags": []
   },
   "outputs": [],
   "source": [
    "for col in df1:\n",
    "    print(f'{col}: {df1[col].unique()}') "
   ]
  },
  {
   "cell_type": "markdown",
   "id": "9b54fd68",
   "metadata": {
    "papermill": {
     "duration": null,
     "end_time": null,
     "exception": null,
     "start_time": null,
     "status": "pending"
    },
    "tags": []
   },
   "source": [
    "#### One hot encoding for categorical columns"
   ]
  },
  {
   "cell_type": "code",
   "execution_count": null,
   "id": "430f9dd3",
   "metadata": {
    "execution": {
     "iopub.execute_input": "2022-01-30T08:14:27.158641Z",
     "iopub.status.busy": "2022-01-30T08:14:27.158015Z",
     "iopub.status.idle": "2022-01-30T08:14:27.177210Z",
     "shell.execute_reply": "2022-01-30T08:14:27.176461Z",
     "shell.execute_reply.started": "2022-01-30T08:14:27.158517Z"
    },
    "papermill": {
     "duration": null,
     "end_time": null,
     "exception": null,
     "start_time": null,
     "status": "pending"
    },
    "tags": []
   },
   "outputs": [],
   "source": [
    "df2 = pd.get_dummies(data=df1, columns=['InternetService','Contract','PaymentMethod','gender'])\n",
    "df2.columns"
   ]
  },
  {
   "cell_type": "code",
   "execution_count": null,
   "id": "8dc30d57",
   "metadata": {
    "execution": {
     "iopub.execute_input": "2022-01-30T08:14:27.398233Z",
     "iopub.status.busy": "2022-01-30T08:14:27.397686Z",
     "iopub.status.idle": "2022-01-30T08:14:27.418027Z",
     "shell.execute_reply": "2022-01-30T08:14:27.416521Z",
     "shell.execute_reply.started": "2022-01-30T08:14:27.398200Z"
    },
    "papermill": {
     "duration": null,
     "end_time": null,
     "exception": null,
     "start_time": null,
     "status": "pending"
    },
    "tags": []
   },
   "outputs": [],
   "source": [
    "df2.head(5)"
   ]
  },
  {
   "cell_type": "code",
   "execution_count": null,
   "id": "9c4d93d2",
   "metadata": {
    "execution": {
     "iopub.execute_input": "2022-01-30T08:14:27.616721Z",
     "iopub.status.busy": "2022-01-30T08:14:27.616118Z",
     "iopub.status.idle": "2022-01-30T08:14:27.625281Z",
     "shell.execute_reply": "2022-01-30T08:14:27.624351Z",
     "shell.execute_reply.started": "2022-01-30T08:14:27.616679Z"
    },
    "papermill": {
     "duration": null,
     "end_time": null,
     "exception": null,
     "start_time": null,
     "status": "pending"
    },
    "tags": []
   },
   "outputs": [],
   "source": [
    "df2.dtypes"
   ]
  },
  {
   "cell_type": "code",
   "execution_count": null,
   "id": "f233c612",
   "metadata": {
    "execution": {
     "iopub.execute_input": "2022-01-30T08:14:27.821820Z",
     "iopub.status.busy": "2022-01-30T08:14:27.821536Z",
     "iopub.status.idle": "2022-01-30T08:14:27.843524Z",
     "shell.execute_reply": "2022-01-30T08:14:27.842639Z",
     "shell.execute_reply.started": "2022-01-30T08:14:27.821788Z"
    },
    "papermill": {
     "duration": null,
     "end_time": null,
     "exception": null,
     "start_time": null,
     "status": "pending"
    },
    "tags": []
   },
   "outputs": [],
   "source": [
    "df.describe()"
   ]
  },
  {
   "cell_type": "code",
   "execution_count": null,
   "id": "1c987ead",
   "metadata": {
    "execution": {
     "iopub.execute_input": "2022-01-30T08:14:27.930697Z",
     "iopub.status.busy": "2022-01-30T08:14:27.930099Z",
     "iopub.status.idle": "2022-01-30T08:14:27.946635Z",
     "shell.execute_reply": "2022-01-30T08:14:27.945673Z",
     "shell.execute_reply.started": "2022-01-30T08:14:27.930650Z"
    },
    "papermill": {
     "duration": null,
     "end_time": null,
     "exception": null,
     "start_time": null,
     "status": "pending"
    },
    "tags": []
   },
   "outputs": [],
   "source": [
    "df.describe().columns"
   ]
  },
  {
   "cell_type": "code",
   "execution_count": null,
   "id": "88fde069",
   "metadata": {
    "execution": {
     "iopub.execute_input": "2022-01-30T08:14:28.033617Z",
     "iopub.status.busy": "2022-01-30T08:14:28.033336Z",
     "iopub.status.idle": "2022-01-30T08:14:28.051581Z",
     "shell.execute_reply": "2022-01-30T08:14:28.050756Z",
     "shell.execute_reply.started": "2022-01-30T08:14:28.033589Z"
    },
    "papermill": {
     "duration": null,
     "end_time": null,
     "exception": null,
     "start_time": null,
     "status": "pending"
    },
    "tags": []
   },
   "outputs": [],
   "source": [
    "cols_to_scale = []\n",
    "for i in df.describe().columns:\n",
    "    cols_to_scale.append(i)\n",
    "cols_to_scale"
   ]
  },
  {
   "cell_type": "code",
   "execution_count": null,
   "id": "71c6be11",
   "metadata": {
    "execution": {
     "iopub.execute_input": "2022-01-30T08:14:28.152130Z",
     "iopub.status.busy": "2022-01-30T08:14:28.151475Z",
     "iopub.status.idle": "2022-01-30T08:14:28.629177Z",
     "shell.execute_reply": "2022-01-30T08:14:28.628167Z",
     "shell.execute_reply.started": "2022-01-30T08:14:28.152089Z"
    },
    "papermill": {
     "duration": null,
     "end_time": null,
     "exception": null,
     "start_time": null,
     "status": "pending"
    },
    "tags": []
   },
   "outputs": [],
   "source": [
    "from sklearn.preprocessing import MinMaxScaler\n",
    "scaler = MinMaxScaler()\n",
    "df2[cols_to_scale] = scaler.fit_transform(df2[cols_to_scale])"
   ]
  },
  {
   "cell_type": "code",
   "execution_count": null,
   "id": "464b5b24",
   "metadata": {
    "execution": {
     "iopub.execute_input": "2022-01-30T08:14:28.631099Z",
     "iopub.status.busy": "2022-01-30T08:14:28.630847Z",
     "iopub.status.idle": "2022-01-30T08:14:28.716447Z",
     "shell.execute_reply": "2022-01-30T08:14:28.715577Z",
     "shell.execute_reply.started": "2022-01-30T08:14:28.631069Z"
    },
    "papermill": {
     "duration": null,
     "end_time": null,
     "exception": null,
     "start_time": null,
     "status": "pending"
    },
    "tags": []
   },
   "outputs": [],
   "source": [
    "df2.describe()"
   ]
  },
  {
   "cell_type": "code",
   "execution_count": null,
   "id": "5277c2fa",
   "metadata": {
    "execution": {
     "iopub.execute_input": "2022-01-30T08:14:28.718351Z",
     "iopub.status.busy": "2022-01-30T08:14:28.717753Z",
     "iopub.status.idle": "2022-01-30T08:14:28.743257Z",
     "shell.execute_reply": "2022-01-30T08:14:28.742200Z",
     "shell.execute_reply.started": "2022-01-30T08:14:28.718306Z"
    },
    "papermill": {
     "duration": null,
     "end_time": null,
     "exception": null,
     "start_time": null,
     "status": "pending"
    },
    "tags": []
   },
   "outputs": [],
   "source": [
    "for col in df2:\n",
    "    print(f'{col}: {df2[col].unique()}')"
   ]
  },
  {
   "cell_type": "markdown",
   "id": "cf8fdab7",
   "metadata": {
    "papermill": {
     "duration": null,
     "end_time": null,
     "exception": null,
     "start_time": null,
     "status": "pending"
    },
    "tags": []
   },
   "source": [
    "## Train test split\n",
    "\n"
   ]
  },
  {
   "cell_type": "code",
   "execution_count": null,
   "id": "901e95e3",
   "metadata": {
    "execution": {
     "iopub.execute_input": "2022-01-30T08:14:28.745881Z",
     "iopub.status.busy": "2022-01-30T08:14:28.745359Z",
     "iopub.status.idle": "2022-01-30T08:14:28.776299Z",
     "shell.execute_reply": "2022-01-30T08:14:28.775342Z",
     "shell.execute_reply.started": "2022-01-30T08:14:28.745831Z"
    },
    "papermill": {
     "duration": null,
     "end_time": null,
     "exception": null,
     "start_time": null,
     "status": "pending"
    },
    "tags": []
   },
   "outputs": [],
   "source": [
    "X = df2.drop('Churn',axis='columns')\n",
    "y = df2['Churn']\n",
    "\n",
    "from sklearn.model_selection import train_test_split\n",
    "X_train, X_test, y_train, y_test = train_test_split(X,y,test_size=0.2,random_state=5)"
   ]
  },
  {
   "cell_type": "code",
   "execution_count": null,
   "id": "501e17eb",
   "metadata": {
    "execution": {
     "iopub.execute_input": "2022-01-30T08:14:28.778187Z",
     "iopub.status.busy": "2022-01-30T08:14:28.777889Z",
     "iopub.status.idle": "2022-01-30T08:14:28.786843Z",
     "shell.execute_reply": "2022-01-30T08:14:28.786050Z",
     "shell.execute_reply.started": "2022-01-30T08:14:28.778148Z"
    },
    "papermill": {
     "duration": null,
     "end_time": null,
     "exception": null,
     "start_time": null,
     "status": "pending"
    },
    "tags": []
   },
   "outputs": [],
   "source": [
    "X_train.shape, X_test.shape"
   ]
  },
  {
   "cell_type": "markdown",
   "id": "bcfed6ae",
   "metadata": {
    "papermill": {
     "duration": null,
     "end_time": null,
     "exception": null,
     "start_time": null,
     "status": "pending"
    },
    "tags": []
   },
   "source": [
    "## BUIDLING A MODEL"
   ]
  },
  {
   "cell_type": "code",
   "execution_count": null,
   "id": "63cab90a",
   "metadata": {
    "execution": {
     "iopub.execute_input": "2022-01-30T08:14:28.887282Z",
     "iopub.status.busy": "2022-01-30T08:14:28.886663Z",
     "iopub.status.idle": "2022-01-30T08:15:12.362947Z",
     "shell.execute_reply": "2022-01-30T08:15:12.361785Z",
     "shell.execute_reply.started": "2022-01-30T08:14:28.887240Z"
    },
    "papermill": {
     "duration": null,
     "end_time": null,
     "exception": null,
     "start_time": null,
     "status": "pending"
    },
    "tags": []
   },
   "outputs": [],
   "source": [
    "import tensorflow as tf\n",
    "from tensorflow import keras\n",
    "\n",
    "\n",
    "\n",
    "model = keras.Sequential([\n",
    "    keras.layers.Dense(26, input_shape=(27,), activation='relu'),\n",
    "    keras.layers.Dense(15, activation='relu'),\n",
    "    keras.layers.Dense(1, activation='sigmoid')\n",
    "])\n",
    "\n",
    "\n",
    "model.compile(optimizer='adam',\n",
    "              loss='binary_crossentropy',\n",
    "              metrics=['accuracy'])\n",
    "\n",
    "model.fit(X_train, y_train, epochs=100)"
   ]
  },
  {
   "cell_type": "code",
   "execution_count": null,
   "id": "40d44b6a",
   "metadata": {
    "execution": {
     "iopub.execute_input": "2022-01-30T08:15:12.365552Z",
     "iopub.status.busy": "2022-01-30T08:15:12.365122Z",
     "iopub.status.idle": "2022-01-30T08:15:12.675215Z",
     "shell.execute_reply": "2022-01-30T08:15:12.674220Z",
     "shell.execute_reply.started": "2022-01-30T08:15:12.365501Z"
    },
    "papermill": {
     "duration": null,
     "end_time": null,
     "exception": null,
     "start_time": null,
     "status": "pending"
    },
    "tags": []
   },
   "outputs": [],
   "source": [
    "model.evaluate(X_test, y_test)"
   ]
  },
  {
   "cell_type": "code",
   "execution_count": null,
   "id": "9aab8606",
   "metadata": {
    "execution": {
     "iopub.execute_input": "2022-01-30T08:15:12.677028Z",
     "iopub.status.busy": "2022-01-30T08:15:12.676684Z",
     "iopub.status.idle": "2022-01-30T08:15:12.866005Z",
     "shell.execute_reply": "2022-01-30T08:15:12.865047Z",
     "shell.execute_reply.started": "2022-01-30T08:15:12.676964Z"
    },
    "papermill": {
     "duration": null,
     "end_time": null,
     "exception": null,
     "start_time": null,
     "status": "pending"
    },
    "tags": []
   },
   "outputs": [],
   "source": [
    "yp = model.predict(X_test)"
   ]
  },
  {
   "cell_type": "code",
   "execution_count": null,
   "id": "61997ca7",
   "metadata": {
    "execution": {
     "iopub.execute_input": "2022-01-30T08:15:12.868742Z",
     "iopub.status.busy": "2022-01-30T08:15:12.868403Z",
     "iopub.status.idle": "2022-01-30T08:15:12.879542Z",
     "shell.execute_reply": "2022-01-30T08:15:12.878830Z",
     "shell.execute_reply.started": "2022-01-30T08:15:12.868699Z"
    },
    "papermill": {
     "duration": null,
     "end_time": null,
     "exception": null,
     "start_time": null,
     "status": "pending"
    },
    "tags": []
   },
   "outputs": [],
   "source": [
    "y_pred = []\n",
    "for element in yp:\n",
    "    if element > 0.5:\n",
    "        y_pred.append(1)\n",
    "    else:\n",
    "        y_pred.append(0)"
   ]
  },
  {
   "cell_type": "code",
   "execution_count": null,
   "id": "800d7b4d",
   "metadata": {
    "execution": {
     "iopub.execute_input": "2022-01-30T08:15:12.881508Z",
     "iopub.status.busy": "2022-01-30T08:15:12.880499Z",
     "iopub.status.idle": "2022-01-30T08:15:12.905081Z",
     "shell.execute_reply": "2022-01-30T08:15:12.903854Z",
     "shell.execute_reply.started": "2022-01-30T08:15:12.881466Z"
    },
    "papermill": {
     "duration": null,
     "end_time": null,
     "exception": null,
     "start_time": null,
     "status": "pending"
    },
    "tags": []
   },
   "outputs": [],
   "source": [
    "from sklearn.metrics import confusion_matrix , classification_report\n",
    "\n",
    "print(classification_report(y_test,y_pred))"
   ]
  },
  {
   "cell_type": "code",
   "execution_count": null,
   "id": "4dd940d4",
   "metadata": {
    "execution": {
     "iopub.execute_input": "2022-01-30T08:15:12.906904Z",
     "iopub.status.busy": "2022-01-30T08:15:12.906541Z",
     "iopub.status.idle": "2022-01-30T08:15:13.270189Z",
     "shell.execute_reply": "2022-01-30T08:15:13.269403Z",
     "shell.execute_reply.started": "2022-01-30T08:15:12.906865Z"
    },
    "papermill": {
     "duration": null,
     "end_time": null,
     "exception": null,
     "start_time": null,
     "status": "pending"
    },
    "tags": []
   },
   "outputs": [],
   "source": [
    "import seaborn as sn\n",
    "cm = tf.math.confusion_matrix(labels=y_test,predictions=y_pred)\n",
    "\n",
    "plt.figure(figsize = (10,7))\n",
    "sn.heatmap(cm, annot=True, fmt='d')\n",
    "plt.xlabel('Predicted')\n",
    "plt.ylabel('Truth')"
   ]
  }
 ],
 "metadata": {
  "kernelspec": {
   "display_name": "Python 3",
   "language": "python",
   "name": "python3"
  },
  "language_info": {
   "codemirror_mode": {
    "name": "ipython",
    "version": 3
   },
   "file_extension": ".py",
   "mimetype": "text/x-python",
   "name": "python",
   "nbconvert_exporter": "python",
   "pygments_lexer": "ipython3",
   "version": "3.7.12"
  },
  "papermill": {
   "default_parameters": {},
   "duration": 11.289318,
   "end_time": "2022-01-30T08:16:32.497058",
   "environment_variables": {},
   "exception": true,
   "input_path": "__notebook__.ipynb",
   "output_path": "__notebook__.ipynb",
   "parameters": {},
   "start_time": "2022-01-30T08:16:21.207740",
   "version": "2.3.3"
  }
 },
 "nbformat": 4,
 "nbformat_minor": 5
}
