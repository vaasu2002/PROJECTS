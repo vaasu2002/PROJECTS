{
  "nbformat": 4,
  "nbformat_minor": 0,
  "metadata": {
    "colab": {
      "name": "Sentiment Analysis with Logistic Regression.ipynb",
      "provenance": []
    },
    "kernelspec": {
      "name": "python3",
      "display_name": "Python 3"
    },
    "language_info": {
      "name": "python"
    }
  },
  "cells": [
    {
      "cell_type": "markdown",
      "source": [
        "[Run Code](https://colab.research.google.com/drive/1m89qWOONS0x1XuYH6cCMUpNxUKT4dQRk?usp=sharing)"
      ],
      "metadata": {
        "id": "qolVnD9yLOOm"
      }
    },
    {
      "cell_type": "markdown",
      "source": [
        "# Import Dependency"
      ],
      "metadata": {
        "id": "LOgakKLpEDds"
      }
    },
    {
      "cell_type": "code",
      "execution_count": 1,
      "metadata": {
        "colab": {
          "base_uri": "https://localhost:8080/"
        },
        "id": "7c7Xb1weCc1c",
        "outputId": "3294e24f-4976-40c6-a9a0-799081ee94f1"
      },
      "outputs": [
        {
          "output_type": "stream",
          "name": "stderr",
          "text": [
            "[nltk_data] Downloading package stopwords to /root/nltk_data...\n",
            "[nltk_data]   Package stopwords is already up-to-date!\n",
            "[nltk_data] Downloading package twitter_samples to /root/nltk_data...\n",
            "[nltk_data]   Package twitter_samples is already up-to-date!\n",
            "[nltk_data] Downloading package stopwords to /root/nltk_data...\n",
            "[nltk_data]   Package stopwords is already up-to-date!\n"
          ]
        },
        {
          "output_type": "execute_result",
          "data": {
            "text/plain": [
              "True"
            ]
          },
          "metadata": {},
          "execution_count": 1
        }
      ],
      "source": [
        "import nltk\n",
        "import re\n",
        "import os\n",
        "from os import getcwd\n",
        "import string\n",
        "import numpy as np\n",
        "import pandas as pd\n",
        "from nltk.corpus import twitter_samples \n",
        "nltk.download('stopwords')\n",
        "from nltk.corpus import stopwords # Stop words are messy and not that compelling; \n",
        "stopwords_english = stopwords.words('english') # \"very\" and \"not\" are considered stop words, but they are obviously expressing sentiment\n",
        "\n",
        "import numpy as np\n",
        "\n",
        "from nltk.corpus import stopwords\n",
        "from nltk.stem import PorterStemmer\n",
        "from nltk.tokenize import TweetTokenizer\n",
        "\n",
        "\n",
        "\n",
        "#from utils import process_tweet, build_freqs\n",
        "nltk.download('twitter_samples')\n",
        "nltk.download('stopwords')"
      ]
    },
    {
      "cell_type": "markdown",
      "source": [
        "# Make Functions"
      ],
      "metadata": {
        "id": "fcw8_VcqELPz"
      }
    },
    {
      "cell_type": "code",
      "source": [
        "def process_tweet(tweet):\n",
        "    \"\"\"Process tweet function.\n",
        "    Input:\n",
        "        tweet: a string containing a tweet\n",
        "    Output:\n",
        "        tweets_clean: a list of words containing the processed tweet\n",
        "\n",
        "    \"\"\"\n",
        "    stemmer = PorterStemmer()\n",
        "    stopwords_english = stopwords.words('english')\n",
        "    # remove stock market tickers like $GE\n",
        "    tweet = re.sub(r'\\$\\w*', '', tweet)\n",
        "    # remove old style retweet text \"RT\"\n",
        "    tweet = re.sub(r'^RT[\\s]+', '', tweet)\n",
        "    # remove hyperlinks    \n",
        "    tweet = re.sub(r'https?://[^\\s\\n\\r]+', '', tweet)\n",
        "    # remove hashtags\n",
        "    # only removing the hash # sign from the word\n",
        "    tweet = re.sub(r'#', '', tweet)\n",
        "    # tokenize tweets\n",
        "    tokenizer = TweetTokenizer(preserve_case=False, strip_handles=True,\n",
        "                               reduce_len=True)\n",
        "    tweet_tokens = tokenizer.tokenize(tweet)\n",
        "\n",
        "    tweets_clean = []\n",
        "    for word in tweet_tokens:\n",
        "        if (word not in stopwords_english and  # remove stopwords\n",
        "                word not in string.punctuation):  # remove punctuation\n",
        "            # tweets_clean.append(word)\n",
        "            stem_word = stemmer.stem(word)  # stemming word\n",
        "            tweets_clean.append(stem_word)\n",
        "\n",
        "    return tweets_clean\n",
        "\n",
        "\n",
        "def build_freqs(tweets, ys):\n",
        "    \"\"\"Build frequencies.\n",
        "    Input:\n",
        "        tweets: a list of tweets\n",
        "        ys: an m x 1 array with the sentiment label of each tweet\n",
        "            (either 0 or 1)\n",
        "    Output:\n",
        "        freqs: a dictionary mapping each (word, sentiment) pair to its\n",
        "        frequency\n",
        "    \"\"\"\n",
        "    # Convert np array to list since zip needs an iterable.\n",
        "    # The squeeze is necessary or the list ends up with one element.\n",
        "    # Also note that this is just a NOP if ys is already a list.\n",
        "    yslist = np.squeeze(ys).tolist()\n",
        "\n",
        "    # Start with an empty dictionary and populate it by looping over all tweets\n",
        "    # and over all processed words in each tweet.\n",
        "    freqs = {}\n",
        "    for y, tweet in zip(yslist, tweets):\n",
        "        for word in process_tweet(tweet):\n",
        "            pair = (word, y)\n",
        "            if pair in freqs:\n",
        "                freqs[pair] += 1\n",
        "            else:\n",
        "                freqs[pair] = 1\n",
        "\n",
        "    return freqs\n",
        "    \n",
        "def load_tweets():\n",
        "    all_positive_tweets = twitter_samples.strings('positive_tweets.json')\n",
        "    all_negative_tweets = twitter_samples.strings('negative_tweets.json')  \n",
        "    return all_positive_tweets, all_negative_tweets"
      ],
      "metadata": {
        "id": "jDFASm3LC9r5"
      },
      "execution_count": 2,
      "outputs": []
    },
    {
      "cell_type": "markdown",
      "source": [
        "# Preparing the dataset"
      ],
      "metadata": {
        "id": "GDArlZMQESx4"
      }
    },
    {
      "cell_type": "code",
      "source": [
        "all_positive_tweets , all_negative_tweets = load_tweets()"
      ],
      "metadata": {
        "id": "m8_madifDA4B"
      },
      "execution_count": 3,
      "outputs": []
    },
    {
      "cell_type": "code",
      "source": [
        "# split the data into two pieces, one for training and one for testing (validation set) \n",
        "test_pos = all_positive_tweets[4000:]\n",
        "train_pos = all_positive_tweets[:4000]\n",
        "test_neg = all_negative_tweets[4000:]\n",
        "train_neg = all_negative_tweets[:4000]\n",
        "\n",
        "train_x = train_pos + train_neg \n",
        "test_x = test_pos + test_neg"
      ],
      "metadata": {
        "id": "mCyi7xudDswS"
      },
      "execution_count": 4,
      "outputs": []
    },
    {
      "cell_type": "code",
      "source": [
        "# combine positive and negative labels\n",
        "train_y = np.append(np.ones((len(train_pos), 1)), np.zeros((len(train_neg), 1)), axis=0)\n",
        "test_y = np.append(np.ones((len(test_pos), 1)), np.zeros((len(test_neg), 1)), axis=0)"
      ],
      "metadata": {
        "id": "DywLczvwD6id"
      },
      "execution_count": 5,
      "outputs": []
    },
    {
      "cell_type": "code",
      "source": [
        "# Print the shape train and test sets\n",
        "print(\"train_y.shape = \" + str(train_y.shape))\n",
        "print(\"test_y.shape = \" + str(test_y.shape))"
      ],
      "metadata": {
        "colab": {
          "base_uri": "https://localhost:8080/"
        },
        "id": "s-1g45T1D7z9",
        "outputId": "8059c348-da20-445d-bc34-fce6104a642f"
      },
      "execution_count": 6,
      "outputs": [
        {
          "output_type": "stream",
          "name": "stdout",
          "text": [
            "train_y.shape = (8000, 1)\n",
            "test_y.shape = (2000, 1)\n"
          ]
        }
      ]
    },
    {
      "cell_type": "markdown",
      "source": [
        "# Processing tweet"
      ],
      "metadata": {
        "id": "6SD8NC3OEatz"
      }
    },
    {
      "cell_type": "code",
      "source": [
        "# create frequency dictionary\n",
        "freqs = build_freqs(train_x, train_y)\n",
        "\n",
        "# check the output\n",
        "print(\"type(freqs) = \" + str(type(freqs)))\n",
        "print(\"len(freqs) = \" + str(len(freqs.keys())))"
      ],
      "metadata": {
        "colab": {
          "base_uri": "https://localhost:8080/"
        },
        "id": "WKuRgKJTD9M1",
        "outputId": "3e807149-449b-4fa9-e925-25afb5dd4c0c"
      },
      "execution_count": 7,
      "outputs": [
        {
          "output_type": "stream",
          "name": "stdout",
          "text": [
            "type(freqs) = <class 'dict'>\n",
            "len(freqs) = 11428\n"
          ]
        }
      ]
    },
    {
      "cell_type": "code",
      "source": [
        "# test the function below\n",
        "print('This is an example of a positive tweet: \\n', train_x[0])\n",
        "print('\\nThis is an example of the processed version of the tweet: \\n', process_tweet(train_x[0]))"
      ],
      "metadata": {
        "colab": {
          "base_uri": "https://localhost:8080/"
        },
        "id": "lVQRLP6jD-ch",
        "outputId": "de16b349-7705-42a5-f096-d110906ff27d"
      },
      "execution_count": 8,
      "outputs": [
        {
          "output_type": "stream",
          "name": "stdout",
          "text": [
            "This is an example of a positive tweet: \n",
            " #FollowFriday @France_Inte @PKuchly57 @Milipol_Paris for being top engaged members in my community this week :)\n",
            "\n",
            "This is an example of the processed version of the tweet: \n",
            " ['followfriday', 'top', 'engag', 'member', 'commun', 'week', ':)']\n"
          ]
        }
      ]
    },
    {
      "cell_type": "markdown",
      "source": [
        "# Logistic regression \n",
        "\n",
        "\n",
        "###  Sigmoid Function\n",
        "You will learn to use logistic regression for text classification. \n",
        "* The sigmoid function is defined as: \n",
        "\n",
        "$$ h(z) = \\frac{1}{1+\\exp^{-z}} \\tag{1}$$\n",
        "\n",
        "It maps the input 'z' to a value that ranges between 0 and 1, and so it can be treated as a probability. \n",
        "\n",
        "![image.png](data:image/png;base64,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)"
      ],
      "metadata": {
        "id": "pLpCog6gEdrJ"
      }
    },
    {
      "cell_type": "code",
      "source": [
        "def sigmoid(z): \n",
        "    '''\n",
        "    Input:\n",
        "        z: is the input (can be a scalar or an array)\n",
        "    Output:\n",
        "        h: the sigmoid of z\n",
        "    '''\n",
        "    # calculate the sigmoid of z\n",
        "    h = 1.0 / (1 + np.exp(-z))\n",
        "    return h"
      ],
      "metadata": {
        "id": "Fe5fHsHVD_qh"
      },
      "execution_count": 9,
      "outputs": []
    },
    {
      "cell_type": "markdown",
      "source": [
        "### Logistic regression: regression and a sigmoid\n",
        "\n",
        "Logistic regression takes a regular linear regression, and applies a sigmoid to the output of the linear regression.\n",
        "\n",
        "Regression:\n",
        "$$z = \\theta_0 x_0 + \\theta_1 x_1 + \\theta_2 x_2 + ... \\theta_N x_N$$\n",
        "Note that the $\\theta$ values are \"weights\". If you took the deep learning specialization, we referred to the weights with the 'w' vector.  In this course, we're using a different variable $\\theta$ to refer to the weights.\n",
        "\n",
        "Logistic regression\n",
        "$$ h(z) = \\frac{1}{1+\\exp^{-z}}$$\n",
        "$$z = \\theta_0 x_0 + \\theta_1 x_1 + \\theta_2 x_2 + ... \\theta_N x_N$$\n",
        "We will refer to 'z' as the 'logits'."
      ],
      "metadata": {
        "id": "7EU5YaKJJ_lJ"
      }
    },
    {
      "cell_type": "markdown",
      "source": [
        "### Cost function and Gradient\n",
        "\n",
        "The cost function used for logistic regression is the average of the log loss across all training examples:\n",
        "\n",
        "$$J(\\theta) = -\\frac{1}{m} \\sum_{i=1}^m y^{(i)}\\log (h(z(\\theta)^{(i)})) + (1-y^{(i)})\\log (1-h(z(\\theta)^{(i)}))\\tag{5} $$\n",
        "* $m$ is the number of training examples\n",
        "* $y^{(i)}$ is the actual label of training example 'i'.\n",
        "* $h(z^{(i)})$ is the model's prediction for the training example 'i'.\n",
        "\n",
        "The loss function for a single training example is\n",
        "$$ Loss = -1 \\times \\left( y^{(i)}\\log (h(z(\\theta)^{(i)})) + (1-y^{(i)})\\log (1-h(z(\\theta)^{(i)})) \\right)$$\n",
        "\n",
        "* All the $h$ values are between 0 and 1, so the logs will be negative. That is the reason for the factor of -1 applied to the sum of the two loss terms.\n",
        "* Note that when the model predicts 1 ($h(z(\\theta)) = 1$) and the label 'y' is also 1, the loss for that training example is 0. \n",
        "* Similarly, when the model predicts 0 ($h(z(\\theta)) = 0$) and the actual label is also 0, the loss for that training example is 0. \n",
        "* However, when the model prediction is close to 1 ($h(z(\\theta)) = 0.9999$) and the label is 0, the second term of the log loss becomes a large negative number, which is then multiplied by the overall factor of -1 to convert it to a positive loss value. $-1 \\times (1 - 0) \\times log(1 - 0.9999) \\approx 9.2$ The closer the model prediction gets to 1, the larger the loss."
      ],
      "metadata": {
        "id": "RLTFleWwJ5Eu"
      }
    },
    {
      "cell_type": "code",
      "source": [
        "def gradientDescent(x, y, theta, alpha, num_iters):\n",
        "    '''\n",
        "    Input:\n",
        "        x: matrix of features which is (m,n+1)\n",
        "        y: corresponding labels of the input matrix x, dimensions (m,1)\n",
        "        theta: weight vector of dimension (n+1,1)\n",
        "        alpha: learning rate\n",
        "        num_iters: number of iterations you want to train your model for\n",
        "    Output:\n",
        "        J: the final cost\n",
        "        theta: your final weight vector\n",
        "    Hint: you might want to print the cost to make sure that it is going down.\n",
        "    '''\n",
        "    # get 'm', the number of rows in matrix x\n",
        "    m = x.shape[0]\n",
        "    \n",
        "    for i in range(0, num_iters):\n",
        "        \n",
        "        # get z, the dot product of x and theta\n",
        "        z = np.dot(x, theta)\n",
        "        \n",
        "        # get the sigmoid of z\n",
        "        h = sigmoid(z)\n",
        "        \n",
        "        # calculate the cost function\n",
        "        J = (-1.0/m) * ( np.dot(y.transpose(), np.log(h)) + np.dot((1-y).transpose(), np.log(1-h)))[0][0]\n",
        "\n",
        "        # update the weights theta\n",
        "        theta = theta - (alpha / m) * np.dot(x.transpose(), (h -y))\n",
        "    J = float(J)\n",
        "    return J, theta"
      ],
      "metadata": {
        "id": "jrlJ2wI0E9l9"
      },
      "execution_count": 10,
      "outputs": []
    },
    {
      "cell_type": "markdown",
      "source": [
        "#### Update the weights\n",
        "\n",
        "To update your weight vector $\\theta$, you will apply gradient descent to iteratively improve your model's predictions.  \n",
        "The gradient of the cost function $J$ with respect to one of the weights $\\theta_j$ is:\n",
        "\n",
        "$$\\nabla_{\\theta_j}J(\\theta) = \\frac{1}{m} \\sum_{i=1}^m(h^{(i)}-y^{(i)})x^{(i)}_j \\tag{5}$$\n",
        "* 'i' is the index across all 'm' training examples.\n",
        "* 'j' is the index of the weight $\\theta_j$, so $x^{(i)}_j$ is the feature associated with weight $\\theta_j$\n",
        "\n",
        "* To update the weight $\\theta_j$, we adjust it by subtracting a fraction of the gradient determined by $\\alpha$:\n",
        "$$\\theta_j = \\theta_j - \\alpha \\times \\nabla_{\\theta_j}J(\\theta) $$\n",
        "* The learning rate $\\alpha$ is a value that we choose to control how big a single update will be.\n"
      ],
      "metadata": {
        "id": "7MNFIDaGKEzj"
      }
    },
    {
      "cell_type": "markdown",
      "source": [
        "## Instructions: Implement gradient descent function\n",
        "* The number of iterations 'num_iters\" is the number of times that you'll use the entire training set.\n",
        "* For each iteration, you'll calculate the cost function using all training examples (there are 'm' training examples), and for all features.\n",
        "* Instead of updating a single weight $\\theta_i$ at a time, we can update all the weights in the column vector:  \n",
        "$$\\mathbf{\\theta} = \\begin{pmatrix}\n",
        "\\theta_0\n",
        "\\\\\n",
        "\\theta_1\n",
        "\\\\ \n",
        "\\theta_2 \n",
        "\\\\ \n",
        "\\vdots\n",
        "\\\\ \n",
        "\\theta_n\n",
        "\\end{pmatrix}$$\n",
        "* $\\mathbf{\\theta}$ has dimensions (n+1, 1), where 'n' is the number of features, and there is one more element for the bias term $\\theta_0$ (note that the corresponding feature value $\\mathbf{x_0}$ is 1).\n",
        "* The 'logits', 'z', are calculated by multiplying the feature matrix 'x' with the weight vector 'theta'.  $z = \\mathbf{x}\\mathbf{\\theta}$\n",
        "    * $\\mathbf{x}$ has dimensions (m, n+1) \n",
        "    * $\\mathbf{\\theta}$: has dimensions (n+1, 1)\n",
        "    * $\\mathbf{z}$: has dimensions (m, 1)\n",
        "* The prediction 'h', is calculated by applying the sigmoid to each element in 'z': $h(z) = sigmoid(z)$, and has dimensions (m,1).\n",
        "* The cost function $J$ is calculated by taking the dot product of the vectors 'y' and 'log(h)'.  Since both 'y' and 'h' are column vectors (m,1), transpose the vector to the left, so that matrix multiplication of a row vector with column vector performs the dot product.\n",
        "$$J = \\frac{-1}{m} \\times \\left(\\mathbf{y}^T \\cdot log(\\mathbf{h}) + \\mathbf{(1-y)}^T \\cdot log(\\mathbf{1-h}) \\right)$$\n",
        "* The update of theta is also vectorized.  Because the dimensions of $\\mathbf{x}$ are (m, n+1), and both $\\mathbf{h}$ and $\\mathbf{y}$ are (m, 1), we need to transpose the $\\mathbf{x}$ and place it on the left in order to perform matrix multiplication, which then yields the (n+1, 1) answer we need:\n",
        "$$\\mathbf{\\theta} = \\mathbf{\\theta} - \\frac{\\alpha}{m} \\times \\left( \\mathbf{x}^T \\cdot \\left( \\mathbf{h-y} \\right) \\right)$$"
      ],
      "metadata": {
        "id": "9QD04LbcKHKT"
      }
    },
    {
      "cell_type": "code",
      "source": [
        "def extract_features(tweet, freqs, process_tweet=process_tweet):\n",
        "    '''\n",
        "    Input: \n",
        "        tweet: a list of words for one tweet\n",
        "        freqs: a dictionary corresponding to the frequencies of each tuple (word, label)\n",
        "    Output: \n",
        "        x: a feature vector of dimension (1,3)\n",
        "    '''\n",
        "    # process_tweet tokenizes, stems, and removes stopwords\n",
        "    word_l = process_tweet(tweet)\n",
        "    \n",
        "    # 3 elements in the form of a 1 x 3 vector\n",
        "    x = np.zeros((1, 3)) \n",
        "    \n",
        "    #bias term is set to 1\n",
        "    x[0,0] = 1 \n",
        "\n",
        "    # loop through each word in the list of words\n",
        "    for word in word_l:\n",
        "        \n",
        "        # increment the word count for the positive label 1\n",
        "        x[0,1] += freqs.get((word, 1.0), 0)\n",
        "        \n",
        "        # increment the word count for the negative label 0\n",
        "        x[0,2] += freqs.get((word, 0.0), 0)\n",
        "    assert(x.shape == (1, 3))\n",
        "    return x"
      ],
      "metadata": {
        "id": "K5D1SdjiFDwZ"
      },
      "execution_count": 11,
      "outputs": []
    },
    {
      "cell_type": "markdown",
      "source": [
        "# Training Your Model"
      ],
      "metadata": {
        "id": "9IO8oofoFNzs"
      }
    },
    {
      "cell_type": "code",
      "source": [
        "# collect the features 'x' and stack them into a matrix 'X'\n",
        "X = np.zeros((len(train_x), 3))\n",
        "for i in range(len(train_x)):\n",
        "    X[i, :]= extract_features(train_x[i], freqs)\n",
        "\n",
        "# training labels corresponding to X\n",
        "Y = train_y\n",
        "\n",
        "# Apply gradient descent\n",
        "J, theta = gradientDescent(X, Y, np.zeros((3, 1)), 1e-9, 1500)\n",
        "print(f\"The cost after training is {J:.8f}.\")\n",
        "print(f\"The resulting vector of weights is {[round(t, 8) for t in np.squeeze(theta)]}\")"
      ],
      "metadata": {
        "colab": {
          "base_uri": "https://localhost:8080/"
        },
        "id": "rFdvYuQHFLB2",
        "outputId": "52537483-5ad6-44e6-96ab-b717db7b8f97"
      },
      "execution_count": 12,
      "outputs": [
        {
          "output_type": "stream",
          "name": "stdout",
          "text": [
            "The cost after training is 0.22521260.\n",
            "The resulting vector of weights is [6e-08, 0.0005382, -0.0005583]\n"
          ]
        }
      ]
    },
    {
      "cell_type": "markdown",
      "source": [
        "# Test logistic regression model"
      ],
      "metadata": {
        "id": "61Q4wm8AFWd6"
      }
    },
    {
      "cell_type": "code",
      "source": [
        "def predict_tweet(tweet, freqs, theta):\n",
        "    '''\n",
        "    Input: \n",
        "        tweet: a string\n",
        "        freqs: a dictionary corresponding to the frequencies of each tuple (word, label)\n",
        "        theta: (3,1) vector of weights\n",
        "    Output: \n",
        "        y_pred: the probability of a tweet being positive or negative\n",
        "    '''\n",
        "    \n",
        "    # extract the features of the tweet and store it into x\n",
        "    x = extract_features(tweet=tweet, freqs=freqs)\n",
        "    \n",
        "    # make the prediction using x and theta\n",
        "    y_pred = sigmoid(np.dot(x, theta))\n",
        "\n",
        "    return y_pred"
      ],
      "metadata": {
        "id": "FPhXbwQoFTmv"
      },
      "execution_count": 13,
      "outputs": []
    },
    {
      "cell_type": "code",
      "source": [
        "my_tweet = 'I am learning :)'\n",
        "predict_tweet(my_tweet, freqs, theta)"
      ],
      "metadata": {
        "colab": {
          "base_uri": "https://localhost:8080/"
        },
        "id": "dlfvLhrKFbsB",
        "outputId": "265e4c15-59fd-4db7-b69b-b9c9aed45501"
      },
      "execution_count": 14,
      "outputs": [
        {
          "output_type": "execute_result",
          "data": {
            "text/plain": [
              "array([[0.83110766]])"
            ]
          },
          "metadata": {},
          "execution_count": 14
        }
      ]
    },
    {
      "cell_type": "markdown",
      "source": [
        "# Check performance of model using the test set"
      ],
      "metadata": {
        "id": "sik-_JAQFiY3"
      }
    },
    {
      "cell_type": "code",
      "source": [
        "def test_logistic_regression(test_x, test_y, freqs, theta, predict_tweet=predict_tweet):\n",
        "    \"\"\"\n",
        "    Input: \n",
        "        test_x: a list of tweets\n",
        "        test_y: (m, 1) vector with the corresponding labels for the list of tweets\n",
        "        freqs: a dictionary with the frequency of each pair (or tuple)\n",
        "        theta: weight vector of dimension (3, 1)\n",
        "    Output: \n",
        "        accuracy: (# of tweets classified correctly) / (total # of tweets)\n",
        "    \"\"\"\n",
        "\n",
        "    # the list for storing predictions\n",
        "    y_hat = []\n",
        "    \n",
        "    for tweet in test_x:\n",
        "        # get the label prediction for the tweet\n",
        "        y_pred = predict_tweet(tweet, freqs, theta)\n",
        "        \n",
        "        if y_pred > 0.5:\n",
        "            # append 1.0 to the list\n",
        "            y_hat.append(1.0)\n",
        "        else:\n",
        "            # append 0 to the list\n",
        "            y_hat.append(0.0)\n",
        "\n",
        "    # With the above implementation, y_hat is a list, but test_y is (m,1) array\n",
        "    # convert both to one-dimensional arrays in order to compare them using the '==' operator\n",
        "    test_y = test_y.ravel()\n",
        "    \n",
        "    accuracy = (sum(test_y == y_hat)/test_y.shape)[0]\n",
        "\n",
        "    return accuracy"
      ],
      "metadata": {
        "id": "ye0imBEAFfo1"
      },
      "execution_count": 15,
      "outputs": []
    },
    {
      "cell_type": "code",
      "source": [
        "y_hat = []\n",
        "for tweet in test_x:\n",
        "        # get the label prediction for the tweet\n",
        "    y_pred = predict_tweet(tweet, freqs, theta)\n",
        "        \n",
        "    if y_pred > 0.5:\n",
        "            # append 1.0 to the list\n",
        "        y_hat.append(1.0)\n",
        "    else:\n",
        "            # append 0 to the list\n",
        "            y_hat.append(0.0)"
      ],
      "metadata": {
        "id": "rD813rhXFoy6"
      },
      "execution_count": 16,
      "outputs": []
    },
    {
      "cell_type": "markdown",
      "source": [
        "# Error Analysis"
      ],
      "metadata": {
        "id": "Uws4vsZ8FxZS"
      }
    },
    {
      "cell_type": "code",
      "source": [
        "# Some error analysis done for you\n",
        "print('Label Predicted Tweet')\n",
        "for x,y in zip(test_x,test_y):\n",
        "    y_hat = predict_tweet(x, freqs, theta)\n",
        "\n",
        "    if np.abs(y - (y_hat > 0.5)) > 0:\n",
        "        print('THE TWEET IS:', x)\n",
        "        print('THE PROCESSED TWEET IS:', process_tweet(x))\n",
        "        print('%d\\t%0.8f\\t%s' % (y, y_hat, ' '.join(process_tweet(x)).encode('ascii', 'ignore')))"
      ],
      "metadata": {
        "colab": {
          "base_uri": "https://localhost:8080/"
        },
        "id": "wtyqOWrhFqYJ",
        "outputId": "d3d0c8ce-fb0d-4de0-ec80-b8233c6b8e66"
      },
      "execution_count": 17,
      "outputs": [
        {
          "output_type": "stream",
          "name": "stdout",
          "text": [
            "Label Predicted Tweet\n",
            "THE TWEET IS: @MarkBreech Not sure it would be good thing 4 my bottom daring 2 say 2 Miss B but Im gonna be so stubborn on mouth soaping ! #NotHavingit :p\n",
            "THE PROCESSED TWEET IS: ['sure', 'would', 'good', 'thing', '4', 'bottom', 'dare', '2', 'say', '2', 'miss', 'b', 'im', 'gonna', 'stubborn', 'mouth', 'soap', 'nothavingit', ':p']\n",
            "1\t0.48942982\tb'sure would good thing 4 bottom dare 2 say 2 miss b im gonna stubborn mouth soap nothavingit :p'\n",
            "THE TWEET IS: I'm playing Brain Dots : ) #BrainDots\n",
            "http://t.co/UGQzOx0huu\n",
            "THE PROCESSED TWEET IS: [\"i'm\", 'play', 'brain', 'dot', 'braindot']\n",
            "1\t0.48418982\tb\"i'm play brain dot braindot\"\n",
            "THE TWEET IS: I'm playing Brain Dots : ) #BrainDots http://t.co/aOKldo3GMj http://t.co/xWCM9qyRG5\n",
            "THE PROCESSED TWEET IS: [\"i'm\", 'play', 'brain', 'dot', 'braindot']\n",
            "1\t0.48418982\tb\"i'm play brain dot braindot\"\n",
            "THE TWEET IS: I'm playing Brain Dots : ) #BrainDots http://t.co/R2JBO8iNww http://t.co/ow5BBwdEMY\n",
            "THE PROCESSED TWEET IS: [\"i'm\", 'play', 'brain', 'dot', 'braindot']\n",
            "1\t0.48418982\tb\"i'm play brain dot braindot\"\n",
            "THE TWEET IS: off to the park to get some sunlight : )\n",
            "THE PROCESSED TWEET IS: ['park', 'get', 'sunlight']\n",
            "1\t0.49636406\tb'park get sunlight'\n",
            "THE TWEET IS: @msarosh Uff Itna Miss karhy thy ap :p\n",
            "THE PROCESSED TWEET IS: ['uff', 'itna', 'miss', 'karhi', 'thi', 'ap', ':p']\n",
            "1\t0.48250522\tb'uff itna miss karhi thi ap :p'\n",
            "THE TWEET IS: @phenomyoutube u probs had more fun with david than me : (\n",
            "THE PROCESSED TWEET IS: ['u', 'prob', 'fun', 'david']\n",
            "0\t0.50988296\tb'u prob fun david'\n",
            "THE TWEET IS: pats jay : (\n",
            "THE PROCESSED TWEET IS: ['pat', 'jay']\n",
            "0\t0.50040366\tb'pat jay'\n",
            "THE TWEET IS: my beloved grandmother : ( https://t.co/wt4oXq5xCf\n",
            "THE PROCESSED TWEET IS: ['belov', 'grandmoth']\n",
            "0\t0.50000002\tb'belov grandmoth'\n",
            "THE TWEET IS: Sr. Financial Analyst - Expedia, Inc.: (#Bellevue, WA) http://t.co/ktknMhvwCI #Finance #ExpediaJobs #Job #Jobs #Hiring\n",
            "THE PROCESSED TWEET IS: ['sr', 'financi', 'analyst', 'expedia', 'inc', 'bellevu', 'wa', 'financ', 'expediajob', 'job', 'job', 'hire']\n",
            "0\t0.50648699\tb'sr financi analyst expedia inc bellevu wa financ expediajob job job hire'\n"
          ]
        }
      ]
    },
    {
      "cell_type": "markdown",
      "source": [
        "# Predict with custom tweet"
      ],
      "metadata": {
        "id": "q5fwNYqKF1NX"
      }
    },
    {
      "cell_type": "code",
      "source": [
        "# Feel free to change the tweet below\n",
        "my_tweet = 'This is a ridiculously bright movie. The plot was terrible and I was sad until the ending!'\n",
        "print(process_tweet(my_tweet))\n",
        "y_hat = predict_tweet(my_tweet, freqs, theta)\n",
        "print(y_hat)\n",
        "if y_hat > 0.5:\n",
        "    print('Positive sentiment')\n",
        "else: \n",
        "    print('Negative sentiment')"
      ],
      "metadata": {
        "colab": {
          "base_uri": "https://localhost:8080/"
        },
        "id": "i78IghkyFy5g",
        "outputId": "755e579e-67dd-42c6-f035-6b0d2689e0ab"
      },
      "execution_count": 18,
      "outputs": [
        {
          "output_type": "stream",
          "name": "stdout",
          "text": [
            "['ridicul', 'bright', 'movi', 'plot', 'terribl', 'sad', 'end']\n",
            "[[0.48125421]]\n",
            "Negative sentiment\n"
          ]
        }
      ]
    }
  ]
}